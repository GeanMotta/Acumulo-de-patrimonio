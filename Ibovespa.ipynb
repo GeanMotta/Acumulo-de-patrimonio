{
 "cells": [
  {
   "cell_type": "code",
   "execution_count": 39,
   "metadata": {},
   "outputs": [],
   "source": [
    "import numpy as np\n",
    "import pandas as pd\n",
    "import random"
   ]
  },
  {
   "cell_type": "code",
   "execution_count": 103,
   "metadata": {},
   "outputs": [],
   "source": [
    "# Sera substituido posteriormente por webscraping no site da B3\n",
    "carteira = pd.read_csv(\"tickers_ibov.csv\", delimiter=\";\")\n",
    "tckrs = carteira[\"TICKER\"]\n",
    "empresas = carteira[\"EMPRESA\"]"
   ]
  },
  {
   "cell_type": "code",
   "execution_count": 105,
   "metadata": {},
   "outputs": [
    {
     "data": {
      "text/plain": [
       "'AZUL4.SA'"
      ]
     },
     "execution_count": 105,
     "metadata": {},
     "output_type": "execute_result"
    }
   ],
   "source": [
    "tckrs"
   ]
  },
  {
   "cell_type": "code",
   "execution_count": 120,
   "metadata": {},
   "outputs": [],
   "source": [
    "\n",
    "def traz_tickers(numero_ativos):\n",
    "    minhalista = random.sample(range(0,len(tckrs)), numero_ativos)\n",
    "    sa_ibov = []\n",
    "    i = 0\n",
    "    while i < len(minhalista):\n",
    "        sa_ibov.append(tckrs[minhalista[i]])\n",
    "        i += 1\n",
    "    return sa_ibov"
   ]
  },
  {
   "cell_type": "code",
   "execution_count": 123,
   "metadata": {},
   "outputs": [
    {
     "data": {
      "text/plain": [
       "['RAIL3.SA', 'TAEE11.SA', 'BBDC3.SA']"
      ]
     },
     "execution_count": 123,
     "metadata": {},
     "output_type": "execute_result"
    }
   ],
   "source": [
    "tickers = traz_tickers(3)\n",
    "tickers"
   ]
  },
  {
   "cell_type": "code",
   "execution_count": null,
   "metadata": {},
   "outputs": [],
   "source": []
  }
 ],
 "metadata": {
  "kernelspec": {
   "display_name": "Python 3",
   "language": "python",
   "name": "python3"
  },
  "language_info": {
   "codemirror_mode": {
    "name": "ipython",
    "version": 3
   },
   "file_extension": ".py",
   "mimetype": "text/x-python",
   "name": "python",
   "nbconvert_exporter": "python",
   "pygments_lexer": "ipython3",
   "version": "3.8.3"
  }
 },
 "nbformat": 4,
 "nbformat_minor": 4
}
