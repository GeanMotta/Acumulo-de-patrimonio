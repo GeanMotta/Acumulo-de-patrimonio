{
 "cells": [
  {
   "cell_type": "code",
   "execution_count": null,
   "metadata": {},
   "outputs": [],
   "source": [
    "import numpy as np\n",
    "import pandas as pd\n",
    "from pandas_datareader import data as wb\n",
    "import matplotlib.pyplot as plt\n",
    "import pylab\n",
    "import datetime as dt\n",
    "from math import floor\n",
    "import random\n",
    "\n",
    "#Turn off data assignment warning. All dataframes are correctly populated\n",
    "pd.set_option('mode.chained_assignment', None)\n",
    "pd.options.display.float_format = \"{:,.2f}\".format"
   ]
  },
  {
   "cell_type": "code",
   "execution_count": null,
   "metadata": {},
   "outputs": [],
   "source": [
    "dates = pd.read_csv(\"Dates_Stocks.csv\")\n",
    "tickers = pd.read_csv(\"https://pkgstore.datahub.io/core/s-and-p-500-companies/constituents_csv/data/652de3c89c39dafdee912fd9cfb23c21/constituents_csv.csv\")\n",
    "tickers.drop([\"Sector\"], axis = 1, inplace = True)\n",
    "tickers\n",
    "\n",
    "my_stocks = pd.DataFrame(index=dates.index,columns=[\"Stock bought\", \"Quantity\"])"
   ]
  },
  {
   "cell_type": "code",
   "execution_count": null,
   "metadata": {},
   "outputs": [],
   "source": [
    "#This simulation really takes some time\n",
    "#And it`s only made in 100-some rows\n",
    "for i in dates.index:\n",
    "    s = tickers[\"Symbol\"][random.randint(0,len(tickers.index))]\n",
    "    my_stocks[\"Stock bought\"][i] = s\n",
    "    my_stocks[\"Quantity\"][i] = 1000 / wb.DataReader(s, \"yahoo\", dates[\"Date\"][i])[\"Adj Close\"].values[0]"
   ]
  },
  {
   "cell_type": "code",
   "execution_count": null,
   "metadata": {},
   "outputs": [],
   "source": [
    "#It takes forever but it`s worth it seeing\n",
    "#This will show how much an investor would have in Jan 2nd, 2020, first trading day of the present year\n",
    "final_date = \"2020-01-02\"\n",
    "my_stocks[\"Present value\"] = 0\n",
    "for i in my_stocks.index:\n",
    "    my_stocks[\"Present value\"][i] = wb.DataReader(my_stocks[\"Stock bought\"][i], \"yahoo\", final_date)[\"Adj Close\"].values[0]\n",
    "    \n",
    "my_stocks"
   ]
  }
 ],
 "metadata": {
  "kernelspec": {
   "display_name": "Python 3",
   "language": "python",
   "name": "python3"
  },
  "language_info": {
   "codemirror_mode": {
    "name": "ipython",
    "version": 3
   },
   "file_extension": ".py",
   "mimetype": "text/x-python",
   "name": "python",
   "nbconvert_exporter": "python",
   "pygments_lexer": "ipython3",
   "version": "3.8.3"
  }
 },
 "nbformat": 4,
 "nbformat_minor": 4
}
