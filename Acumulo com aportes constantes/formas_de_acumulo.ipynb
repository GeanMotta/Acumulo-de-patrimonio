{
 "cells": [
  {
   "cell_type": "code",
   "execution_count": 3,
   "metadata": {},
   "outputs": [],
   "source": [
    "#retorna o maior preco de cada mes\n",
    "\n",
    "def maior_preco():\n",
    "    datas_mensais = acoes[\"MesEAno\"].drop_duplicates()\n",
    "    datas_mensais.to_list()\n",
    "    maiores_precos = pd.DataFrame(columns = acoes.columns)\n",
    "    for i in datas_mensais:\n",
    "        maiores_precos.loc[i] = acoes[acoes[\"MesEAno\"] == i].max()\n",
    "    return maiores_precos\n",
    "\n",
    "def menor_preco():\n",
    "    datas_mensais = acoes[\"MesEAno\"].drop_duplicates()\n",
    "    datas_mensais.to_list()\n",
    "    maiores_precos = pd.DataFrame(columns = acoes.columns)\n",
    "    for i in datas_mensais:\n",
    "        maiores_precos.loc[i] = acoes[acoes[\"MesEAno\"] == i].min()\n",
    "    return maiores_precos\n",
    "\n",
    "def primeiro_preco():\n",
    "    datas_mensais = acoes[\"MesEAno\"].drop_duplicates()\n",
    "    datas_mensais.to_list()\n",
    "    primeiros_precos = acoes.drop_duplicates(subset =[\"MesEAno\"], keep = \"first\")\n",
    "    primeiros_precos.index = datas_mensais\n",
    "    return primeiros_precos\n",
    "\n",
    "def ultimo_preco():\n",
    "    datas_mensais = acoes[\"MesEAno\"].drop_duplicates()\n",
    "    datas_mensais.to_list()\n",
    "    ultimos_precos = acoes.drop_duplicates(subset =[\"MesEAno\"], keep = \"last\")\n",
    "    ultimos_precos.index = datas_mensais\n",
    "    return ultimos_precos"
   ]
  },
  {
   "cell_type": "code",
   "execution_count": null,
   "metadata": {},
   "outputs": [],
   "source": [
    "#Retorna a multiplicacao do capital\n",
    "def mult_cap(df):\n",
    "    multiplicacao = df[\"PATRIMONIO\"][-1] / df[\"PATRIMONIO\"][0]\n",
    "    return multiplicacao"
   ]
  },
  {
   "cell_type": "code",
   "execution_count": null,
   "metadata": {},
   "outputs": [],
   "source": [
    "#Usando um contador no lugar do index de i por questao de organizacao e facilidade de leitura\n",
    "def nome_empresas():\n",
    "    nomes = []\n",
    "    cont = 0\n",
    "    if \".SA\" in tickers[0]:\n",
    "        for i in tickers:\n",
    "            nomes.append(carteira[carteira[\"TICKER\"] == tickers[cont]][\"EMPRESA\"].values[0])\n",
    "            cont += 1\n",
    "    else:\n",
    "        for i in tickers:\n",
    "            nomes.append(SP[SP[\"Symbol\"] == tickers[cont]][\"Name\"].values[0])\n",
    "            cont += 1\n",
    "    return nomes"
   ]
  },
  {
   "cell_type": "code",
   "execution_count": null,
   "metadata": {},
   "outputs": [],
   "source": [
    "def dfPrimeiro():\n",
    "#Para invest nos primeiros precos do mes\n",
    "#Dataframe de resultados para exportacao. A coluna valor investido sera usada com formulas para adaptar-se melhor\n",
    "#A adicao de pesos (w) no futuro\n",
    "    resumo = pd.DataFrame(columns=[\"Valor investido\", \"Valor final acumulado\", \"Retorno do ativo em %\"], index=tickers)\n",
    "    resumo[\"Valor investido\"] = val_invest / len(primeiro.columns)\n",
    "    for i in tickers:\n",
    "        resumo[\"Valor final acumulado\"][i] = float(first_acum[i][-1])\n",
    "    for i in tickers:\n",
    "        resumo[\"Retorno do ativo em %\"][i] = (resumo[\"Valor final acumulado\"][i] / resumo[\"Valor investido\"][i] * 100) - 100\n",
    "    resumo.loc[\"TOTAL\"] = resumo.sum()\n",
    "    resumo[\"Retorno do ativo em %\"][\"TOTAL\"] = ret_primeiro - 100\n",
    "    return resumo\n",
    "\n",
    "\n",
    "def dfMaior():\n",
    "#Para invest nos maiores precos do mes\n",
    "#Dataframe de.  resultados para exportacao. A coluna valor investido sera usada com formulas para adaptar-se melhor\n",
    "#A adicao de pesos (w) no futuro\n",
    "    resumo = pd.DataFrame(columns=[\"Valor investido\", \"Valor final acumulado\", \"Retorno do ativo em %\"], index=tickers)\n",
    "    resumo[\"Valor investido\"] = val_invest / len(maior.columns)\n",
    "    for i in tickers:\n",
    "        resumo[\"Valor final acumulado\"][i] = float(major_acum[i][-1])\n",
    "    for i in tickers:\n",
    "        resumo[\"Retorno do ativo em %\"][i] = (resumo[\"Valor final acumulado\"][i] / resumo[\"Valor investido\"][i] * 100) - 100\n",
    "    resumo.loc[\"TOTAL\"] = resumo.sum()\n",
    "    resumo[\"Retorno do ativo em %\"][\"TOTAL\"] = ret_maior - 100\n",
    "    return resumo\n",
    "\n",
    "\n",
    "def dfMenor():\n",
    "#Para invest nos menores precos do mes\n",
    "#Dataframe de.  resultados para exportacao. A coluna valor investido sera usada com formulas para adaptar-se melhor\n",
    "#A adicao de pesos (w) no futuro\n",
    "    resumo = pd.DataFrame(columns=[\"Valor investido\", \"Valor final acumulado\", \"Retorno do ativo em %\"], index=tickers)\n",
    "    resumo[\"Valor investido\"] = val_invest / len(menor.columns)\n",
    "    for i in tickers:\n",
    "        resumo[\"Valor final acumulado\"][i] = float(minor_acum[i][-1])\n",
    "    for i in tickers:\n",
    "        resumo[\"Retorno do ativo em %\"][i] = (resumo[\"Valor final acumulado\"][i] / resumo[\"Valor investido\"][i] * 100) - 100\n",
    "    resumo.loc[\"TOTAL\"] = resumo.sum()\n",
    "    resumo[\"Retorno do ativo em %\"][\"TOTAL\"] = ret_menor - 100\n",
    "    return resumo"
   ]
  }
 ],
 "metadata": {
  "kernelspec": {
   "display_name": "Python 3",
   "language": "python",
   "name": "python3"
  },
  "language_info": {
   "codemirror_mode": {
    "name": "ipython",
    "version": 3
   },
   "file_extension": ".py",
   "mimetype": "text/x-python",
   "name": "python",
   "nbconvert_exporter": "python",
   "pygments_lexer": "ipython3",
   "version": "3.8.3"
  }
 },
 "nbformat": 4,
 "nbformat_minor": 4
}
