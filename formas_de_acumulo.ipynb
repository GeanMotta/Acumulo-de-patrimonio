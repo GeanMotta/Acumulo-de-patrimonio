{
 "cells": [
  {
   "cell_type": "code",
   "execution_count": 3,
   "metadata": {},
   "outputs": [],
   "source": [
    "#retorna o maior preco de cada mes\n",
    "\n",
    "def maior_preco():\n",
    "    datas_mensais = acoes[\"MesEAno\"].drop_duplicates()\n",
    "    datas_mensais.to_list()\n",
    "    maiores_precos = pd.DataFrame(columns = acoes.columns)\n",
    "    for i in datas_mensais:\n",
    "        maiores_precos.loc[i] = acoes[acoes[\"MesEAno\"] == i].max()\n",
    "    return maiores_precos\n",
    "\n",
    "def menor_preco():\n",
    "    datas_mensais = acoes[\"MesEAno\"].drop_duplicates()\n",
    "    datas_mensais.to_list()\n",
    "    maiores_precos = pd.DataFrame(columns = acoes.columns)\n",
    "    for i in datas_mensais:\n",
    "        maiores_precos.loc[i] = acoes[acoes[\"MesEAno\"] == i].min()\n",
    "    return maiores_precos\n",
    "\n",
    "def primeiro_preco():\n",
    "    datas_mensais = acoes[\"MesEAno\"].drop_duplicates()\n",
    "    datas_mensais.to_list()\n",
    "    primeiros_precos = acoes.drop_duplicates(subset =[\"MesEAno\"], keep = \"first\")\n",
    "    primeiros_precos.index = datas_mensais\n",
    "    return primeiros_precos"
   ]
  },
  {
   "cell_type": "code",
   "execution_count": null,
   "metadata": {},
   "outputs": [],
   "source": [
    "#Retorna os dataframes de patrimonio\n",
    "def pat_primeiro(dados):\n",
    "    acoes_primeiro = pd.DataFrame()\n",
    "    for t in tickers:\n",
    "        acoes_primeiro[t] = dados[t].mul(list(primeiro[t]), axis=0)\n",
    "    acoes_primeiro[\"PATRIMONIO\"] = acoes_primeiro.sum(axis=1)\n",
    "    return acoes_primeiro\n",
    "\n",
    "def pat_maior(dados):\n",
    "    acoes_maior = pd.DataFrame()\n",
    "    for t in tickers:\n",
    "        acoes_maior[t] = dados[t].mul(list(maior[t]), axis=0)\n",
    "    acoes_maior[\"PATRIMONIO\"] = acoes_maior.sum(axis=1)\n",
    "    return acoes_maior\n",
    "\n",
    "def pat_menor(dados):\n",
    "    acoes_menor = pd.DataFrame()\n",
    "    for t in tickers:\n",
    "        acoes_menor[t] = dados[t].mul(list(menor[t]), axis=0)\n",
    "    acoes_menor[\"PATRIMONIO\"] = acoes_menor.sum(axis=1)\n",
    "    return acoes_menor"
   ]
  }
 ],
 "metadata": {
  "kernelspec": {
   "display_name": "Python 3",
   "language": "python",
   "name": "python3"
  },
  "language_info": {
   "codemirror_mode": {
    "name": "ipython",
    "version": 3
   },
   "file_extension": ".py",
   "mimetype": "text/x-python",
   "name": "python",
   "nbconvert_exporter": "python",
   "pygments_lexer": "ipython3",
   "version": "3.8.3"
  }
 },
 "nbformat": 4,
 "nbformat_minor": 4
}
